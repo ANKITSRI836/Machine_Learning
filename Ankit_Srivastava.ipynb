{
  "nbformat": 4,
  "nbformat_minor": 0,
  "metadata": {
    "colab": {
      "name": "Ankit_Srivastava.ipynb",
      "provenance": [],
      "authorship_tag": "ABX9TyMAuK+xs+C4la4xXZvc4Ngz",
      "include_colab_link": true
    },
    "kernelspec": {
      "name": "python3",
      "display_name": "Python 3"
    },
    "language_info": {
      "name": "python"
    }
  },
  "cells": [
    {
      "cell_type": "markdown",
      "metadata": {
        "id": "view-in-github",
        "colab_type": "text"
      },
      "source": [
        "<a href=\"https://colab.research.google.com/github/ANKITSRI836/Machine_Learning/blob/main/Ankit_Srivastava.ipynb\" target=\"_parent\"><img src=\"https://colab.research.google.com/assets/colab-badge.svg\" alt=\"Open In Colab\"/></a>"
      ]
    },
    {
      "cell_type": "code",
      "metadata": {
        "id": "GI3WIzyE1brE"
      },
      "source": [
        "import pandas as pd\n",
        "from sklearn.model_selection import train_test_split\n",
        "from sklearn.linear_model import LinearRegression\n",
        "from sklearn.metrics import mean_absolute_error"
      ],
      "execution_count": 38,
      "outputs": []
    },
    {
      "cell_type": "code",
      "metadata": {
        "id": "f8yCnl3410p-"
      },
      "source": [
        "df = pd.read_csv(r'https://github.com/Yantra-Byte/Dataset/raw/main/Boston.csv')"
      ],
      "execution_count": 39,
      "outputs": []
    },
    {
      "cell_type": "code",
      "metadata": {
        "colab": {
          "base_uri": "https://localhost:8080/"
        },
        "id": "P6OZgIhx15Vo",
        "outputId": "978c8c84-4776-474d-8dc6-40b42d296443"
      },
      "source": [
        "df.columns"
      ],
      "execution_count": 40,
      "outputs": [
        {
          "output_type": "execute_result",
          "data": {
            "text/plain": [
              "Index(['CRIM', 'ZN', 'INDUS', 'CHAS', 'NX', 'RM', 'AGE', 'DIS', 'RAD', 'TAX',\n",
              "       'PTRATIO', 'B', 'LSTAT', 'MEDV'],\n",
              "      dtype='object')"
            ]
          },
          "metadata": {},
          "execution_count": 40
        }
      ]
    },
    {
      "cell_type": "code",
      "metadata": {
        "id": "OHYlJEl_15ZF"
      },
      "source": [
        "X = df[['CRIM', 'ZN', 'INDUS', 'CHAS', 'NX', 'RM', 'AGE', 'DIS', 'RAD', 'TAX',\n",
        "       'PTRATIO', 'B', 'LSTAT']]\n",
        "y = df['MEDV']"
      ],
      "execution_count": 41,
      "outputs": []
    },
    {
      "cell_type": "code",
      "metadata": {
        "colab": {
          "base_uri": "https://localhost:8080/"
        },
        "id": "upOQOJet15tK",
        "outputId": "b47605e6-93af-4f8b-8ef7-7869a347c627"
      },
      "source": [
        "X_train, X_test, y_train, y_test = train_test_split(X, y, train_size = 0.5, random_state = 250)\n",
        "model = LinearRegression()\n",
        "model.fit(X_train, y_train)"
      ],
      "execution_count": 42,
      "outputs": [
        {
          "output_type": "execute_result",
          "data": {
            "text/plain": [
              "LinearRegression()"
            ]
          },
          "metadata": {},
          "execution_count": 42
        }
      ]
    },
    {
      "cell_type": "code",
      "metadata": {
        "colab": {
          "base_uri": "https://localhost:8080/"
        },
        "id": "UbAK-Gad2a4n",
        "outputId": "a98aa0d4-91a3-4008-8233-558a48347402"
      },
      "source": [
        "model.intercept_\n"
      ],
      "execution_count": 43,
      "outputs": [
        {
          "output_type": "execute_result",
          "data": {
            "text/plain": [
              "37.71899408909495"
            ]
          },
          "metadata": {},
          "execution_count": 43
        }
      ]
    },
    {
      "cell_type": "code",
      "metadata": {
        "colab": {
          "base_uri": "https://localhost:8080/"
        },
        "id": "sbOlEwh_2a_G",
        "outputId": "3efc6556-5512-4e37-e1d3-867ac1eccef1"
      },
      "source": [
        "model.coef_"
      ],
      "execution_count": 44,
      "outputs": [
        {
          "output_type": "execute_result",
          "data": {
            "text/plain": [
              "array([-1.17396851e-01,  5.20540572e-02,  1.16244376e-02,  1.96549103e+00,\n",
              "       -1.76895686e+01,  3.93711584e+00,  6.52993743e-03, -1.51966559e+00,\n",
              "        3.45882994e-01, -1.66835843e-02, -1.01769892e+00,  9.06720359e-03,\n",
              "       -4.75166009e-01])"
            ]
          },
          "metadata": {},
          "execution_count": 44
        }
      ]
    },
    {
      "cell_type": "code",
      "metadata": {
        "id": "zE_Sc2RK2zI-"
      },
      "source": [
        "y_pred = model.predict(X_test)"
      ],
      "execution_count": 45,
      "outputs": []
    },
    {
      "cell_type": "code",
      "metadata": {
        "colab": {
          "base_uri": "https://localhost:8080/"
        },
        "id": "MSKuj_8H23-i",
        "outputId": "befac355-5b5d-4719-a3c4-6d7b7f7f8f54"
      },
      "source": [
        "y_test"
      ],
      "execution_count": 46,
      "outputs": [
        {
          "output_type": "execute_result",
          "data": {
            "text/plain": [
              "422    20.8\n",
              "264    36.5\n",
              "181    36.2\n",
              "94     20.6\n",
              "223    30.1\n",
              "       ... \n",
              "161    50.0\n",
              "121    20.3\n",
              "436     9.6\n",
              "152    15.3\n",
              "369    50.0\n",
              "Name: MEDV, Length: 253, dtype: float64"
            ]
          },
          "metadata": {},
          "execution_count": 46
        }
      ]
    },
    {
      "cell_type": "code",
      "metadata": {
        "colab": {
          "base_uri": "https://localhost:8080/"
        },
        "id": "rUnCM7xy24DP",
        "outputId": "525a56d4-f359-4fa9-cfca-33d7ff2e09f8"
      },
      "source": [
        "y_pred"
      ],
      "execution_count": 47,
      "outputs": [
        {
          "output_type": "execute_result",
          "data": {
            "text/plain": [
              "array([18.07337079, 37.09548498, 28.56598774, 27.67615722, 30.28599804,\n",
              "       31.11037173, 29.24063863, 28.78775841, 27.38900127, 21.65462608,\n",
              "       14.4711736 , 33.70711231, 22.53984923, 16.29146545, 18.42973765,\n",
              "       26.11632137, 14.15440916, 25.3638829 , 23.6580492 , 22.93420938,\n",
              "       21.22858512, 17.66200902, 20.87079874, 17.25025453, 22.6401301 ,\n",
              "       23.34313565, 25.82199981, 29.69530596, 20.1381616 , 18.74467948,\n",
              "       31.80138406, 16.18083024, 12.69485153, 29.53418109, 37.79657312,\n",
              "       16.48260332, 24.2966074 , 38.48691868,  6.70245878, 20.74257888,\n",
              "       22.68404941, 31.72676329, 22.37566106, 13.30132945, 24.18540716,\n",
              "       12.59973506, 22.28010555, 14.01452659, 22.03977627, 23.61195732,\n",
              "       25.24747977, 16.46139492, 15.83009921, 13.31484789, 22.55610384,\n",
              "       24.63267722, 18.31162168, 16.31838983, 11.23212515, 22.91239208,\n",
              "       14.74813541, 19.37644644, 14.20551623, 25.54372056, 33.36304846,\n",
              "       26.75440525, 27.36378965, 16.10851755, 19.90417896, 30.8139204 ,\n",
              "       27.41287105, 15.09021015, 32.00900704, 12.0512392 , 35.46673242,\n",
              "       22.50417   , 20.15946883, 18.02984564, 15.59894249, 18.51763542,\n",
              "       34.48770446, 20.93143205, 13.98386237, 27.85111144, 19.37079057,\n",
              "       32.16816157, 21.12123625, 21.09997704, 24.60781307, 31.22959811,\n",
              "       26.12546561, 22.4628879 , 14.01280548, 20.56946692, 25.78037702,\n",
              "       19.96520532, 25.92608988, 17.80906051, 10.06728605, 22.23364668,\n",
              "        3.46383846, 19.33032395, 23.40700833, 17.37064364, 21.36165608,\n",
              "       15.58803954, 19.29353386,  1.34717968, 24.6739613 , 21.70297648,\n",
              "       17.85819036, 21.35024296,  6.9622484 , 27.81851096, 33.89334441,\n",
              "       29.70214844, 33.59183859, 33.21687538, 17.60957102, 10.10321131,\n",
              "       32.59292589, 41.68978696, 24.09948105, 20.57529406, 20.15702852,\n",
              "       30.87457344, 20.48111142, 16.92023361, 32.74337845, 26.00238069,\n",
              "       17.35106114, 21.8227809 , 17.85709452, 22.75704725, 17.14232835,\n",
              "       20.49501647, 25.05774208, 36.59320313, 19.85993848, 30.17455272,\n",
              "       29.70968051, 24.39658733, 10.69541463, 20.63062699, 13.92679592,\n",
              "       20.79001096, 28.87023094, 29.14124413, 21.54708908, 19.88273799,\n",
              "       40.09278746, 15.31262837, 27.54169559, 24.3298221 , 13.29456715,\n",
              "       17.23438485, 35.32183862, 21.97664049, 32.09162906, 28.45483203,\n",
              "       25.76251652, 32.26813606, 18.56991283, 23.81983632, 21.84700468,\n",
              "       -3.91388245, 19.94377459, 19.8864698 , 18.89861629, 22.78605872,\n",
              "       10.62861268, 16.5771745 , 18.51865002, 13.26489862, 20.90771336,\n",
              "       23.78750122, 28.80065085, 18.4185138 , 29.04159587, 19.8685922 ,\n",
              "       22.4339259 , 35.99384591, 14.45935069, 23.30525525, 34.01986542,\n",
              "       19.72803037, 11.54207364, 16.35216633, 18.87003926, 29.08660776,\n",
              "       24.40985954, 30.46721896,  9.86368754, 15.13282131, 13.54906088,\n",
              "       40.50935901, 35.58072601, 23.24809362, 26.50598397, 23.88644323,\n",
              "       23.8142199 , 23.00375892, 22.93278317, 21.3947632 , 19.05873211,\n",
              "       31.95760436, 22.75074011, 19.45821987, 24.66557582, 18.04449665,\n",
              "       21.6586886 , 38.12554934, 23.90991757, 11.64320686, 33.37934826,\n",
              "       27.96713794, 19.79656596, 18.12757421, 13.58828509, 29.38134248,\n",
              "       32.95253666, 44.25269339, 26.56115068, 36.18671375,  7.89330705,\n",
              "       25.80928632, 20.16582355, 19.94962196, 20.44596129, 29.6404041 ,\n",
              "       36.59484764, 14.16349849, 12.64368973, 22.20944977, 18.34327153,\n",
              "       25.14426249, 37.38106963, 35.2291749 , 19.52798478, 25.31210457,\n",
              "       33.7789343 , 18.64678126, 35.88590081, 40.37658145, 13.18428721,\n",
              "       19.17718837, 20.51602832, 19.74113559, 36.77423983, 23.3404027 ,\n",
              "       14.45474287, 19.6320479 , 31.21247544])"
            ]
          },
          "metadata": {},
          "execution_count": 47
        }
      ]
    },
    {
      "cell_type": "code",
      "metadata": {
        "colab": {
          "base_uri": "https://localhost:8080/"
        },
        "id": "0xy6rXKi3Khu",
        "outputId": "03e5ae0a-2347-4c60-ea37-3fbef6e3dab9"
      },
      "source": [
        "mean_absolute_error(y_test, y_pred)"
      ],
      "execution_count": 48,
      "outputs": [
        {
          "output_type": "execute_result",
          "data": {
            "text/plain": [
              "3.263725116515665"
            ]
          },
          "metadata": {},
          "execution_count": 48
        }
      ]
    }
  ]
}