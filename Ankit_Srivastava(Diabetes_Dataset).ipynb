{
  "nbformat": 4,
  "nbformat_minor": 0,
  "metadata": {
    "colab": {
      "name": "Ankit_Srivastava(Diabetes Dataset).ipynb",
      "provenance": [],
      "collapsed_sections": [],
      "authorship_tag": "ABX9TyNdpnvTnpTVJVybmnPaeZ6f",
      "include_colab_link": true
    },
    "kernelspec": {
      "name": "python3",
      "display_name": "Python 3"
    },
    "language_info": {
      "name": "python"
    }
  },
  "cells": [
    {
      "cell_type": "markdown",
      "metadata": {
        "id": "view-in-github",
        "colab_type": "text"
      },
      "source": [
        "<a href=\"https://colab.research.google.com/github/ANKITSRI836/Machine_Learning/blob/main/Ankit_Srivastava(Diabetes_Dataset).ipynb\" target=\"_parent\"><img src=\"https://colab.research.google.com/assets/colab-badge.svg\" alt=\"Open In Colab\"/></a>"
      ]
    },
    {
      "cell_type": "markdown",
      "source": [
        "Creating Model For Dataset Diabetes\n",
        "\n",
        "---\n",
        "\n"
      ],
      "metadata": {
        "id": "76m7IJq0FTOM"
      }
    },
    {
      "cell_type": "code",
      "execution_count": null,
      "metadata": {
        "id": "eYq6ryiM2XS_"
      },
      "outputs": [],
      "source": [
        "import pandas as pd"
      ]
    },
    {
      "cell_type": "code",
      "source": [
        "df=pd.read_csv(r\"https://github.com/Yantra-Byte/Dataset/raw/main/Diabetes.csv\")"
      ],
      "metadata": {
        "id": "AmHa4eF52csE"
      },
      "execution_count": null,
      "outputs": []
    },
    {
      "cell_type": "code",
      "source": [
        "X =df[['pregnancies', 'glucose', 'diastolic', 'triceps', 'insulin', 'bmi',\n",
        "       'dpf', 'age']]"
      ],
      "metadata": {
        "id": "hM1LEMhA27bq"
      },
      "execution_count": null,
      "outputs": []
    },
    {
      "cell_type": "code",
      "source": [
        "y=df['diabetes']"
      ],
      "metadata": {
        "id": "QmDMNDmx3CBu"
      },
      "execution_count": null,
      "outputs": []
    },
    {
      "cell_type": "code",
      "source": [
        "# train_test_split\n",
        "from sklearn.model_selection import train_test_split\n",
        "X_train, X_test, y_train, y_test= train_test_split(X,y,train_size=0.7,random_state=252)"
      ],
      "metadata": {
        "id": "6xXBNo-A3J3d"
      },
      "execution_count": null,
      "outputs": []
    },
    {
      "cell_type": "code",
      "source": [
        "# Model - train dataset\n",
        "from sklearn.linear_model import LogisticRegression\n",
        "model=LogisticRegression(max_iter=500,random_state=252)\n",
        "model.fit(X_train,y_train)"
      ],
      "metadata": {
        "id": "G9tyGVHH8QGc",
        "colab": {
          "base_uri": "https://localhost:8080/"
        },
        "outputId": "8fc2a99a-b791-458e-c7d3-7096fb6c2bce"
      },
      "execution_count": null,
      "outputs": [
        {
          "output_type": "execute_result",
          "data": {
            "text/plain": [
              "LogisticRegression(max_iter=500, random_state=252)"
            ]
          },
          "metadata": {},
          "execution_count": 136
        }
      ]
    },
    {
      "cell_type": "code",
      "source": [
        "# predict - test datset\n",
        "y_pred=model.predict(X_test)"
      ],
      "metadata": {
        "id": "UZhQzvg5A67e"
      },
      "execution_count": null,
      "outputs": []
    },
    {
      "cell_type": "code",
      "source": [
        "y_pred"
      ],
      "metadata": {
        "colab": {
          "base_uri": "https://localhost:8080/"
        },
        "id": "Nd08wyxxBD6y",
        "outputId": "2930a137-d036-49b9-821b-56b4ff80330f"
      },
      "execution_count": null,
      "outputs": [
        {
          "output_type": "execute_result",
          "data": {
            "text/plain": [
              "array([0, 0, 0, 0, 0, 1, 1, 0, 0, 0, 1, 1, 0, 0, 0, 0, 0, 0, 0, 0, 0, 0,\n",
              "       0, 1, 1, 1, 0, 0, 0, 0, 1, 0, 0, 0, 0, 0, 0, 0, 0, 0, 1, 0, 0, 0,\n",
              "       0, 0, 1, 0, 1, 0, 0, 0, 0, 0, 1, 0, 0, 0, 0, 0, 0, 1, 0, 0, 0, 0,\n",
              "       1, 0, 0, 1, 1, 0, 0, 1, 0, 0, 0, 0, 1, 1, 1, 0, 0, 0, 0, 0, 0, 1,\n",
              "       0, 1, 0, 1, 0, 0, 0, 0, 0, 0, 0, 0, 0, 1, 0, 1, 0, 1, 1, 1, 1, 0,\n",
              "       0, 0, 0, 1, 1, 1, 1, 0, 1, 1, 0, 0, 1, 0, 0, 1, 1, 0, 1, 0, 0, 1,\n",
              "       0, 0, 0, 0, 0, 0, 0, 0, 0, 0, 0, 0, 0, 0, 1, 0, 0, 0, 0, 0, 0, 0,\n",
              "       0, 0, 0, 0, 0, 0, 0, 0, 1, 0, 1, 0, 0, 1, 0, 0, 0, 0, 0, 0, 0, 0,\n",
              "       1, 1, 1, 0, 0, 0, 1, 0, 1, 0, 0, 1, 0, 1, 0, 1, 0, 0, 0, 0, 1, 0,\n",
              "       0, 1, 0, 1, 1, 1, 1, 1, 0, 0, 0, 0, 0, 1, 0, 0, 0, 0, 0, 0, 0, 0,\n",
              "       1, 1, 0, 1, 0, 1, 0, 0, 0, 0, 0])"
            ]
          },
          "metadata": {},
          "execution_count": 138
        }
      ]
    },
    {
      "cell_type": "code",
      "source": [
        "#Predicted in probability\n",
        "model.predict_proba(X_test)"
      ],
      "metadata": {
        "id": "q_hAdOSOBGMx"
      },
      "execution_count": null,
      "outputs": []
    },
    {
      "cell_type": "markdown",
      "source": [
        "Accuracy \n",
        "\n",
        "\n"
      ],
      "metadata": {
        "id": "E52jD-LmBwq2"
      }
    },
    {
      "cell_type": "markdown",
      "source": [
        "To check accuracy of classification model we use-\n",
        "\n",
        "1- Confusion Matrix- This is a table of four separate combinations of predicted and actual values that is True Positive, True Negative, False Positive and False Negative.\n",
        "\n",
        "\n",
        "2- Classification Report- A Classification report is used to measure the quality of predictions by calculating precision and recall values."
      ],
      "metadata": {
        "id": "I_oExbYdH265"
      }
    },
    {
      "cell_type": "code",
      "source": [
        "from sklearn.metrics import confusion_matrix , classification_report "
      ],
      "metadata": {
        "id": "mBOI2K-wB0zs"
      },
      "execution_count": null,
      "outputs": []
    },
    {
      "cell_type": "code",
      "source": [
        "confusion_matrix(y_test,y_pred)"
      ],
      "metadata": {
        "colab": {
          "base_uri": "https://localhost:8080/"
        },
        "id": "UqfCOJhcCH2F",
        "outputId": "208fc3dc-ba59-416d-bf31-1308c339ef1d"
      },
      "execution_count": null,
      "outputs": [
        {
          "output_type": "execute_result",
          "data": {
            "text/plain": [
              "array([[133,  20],\n",
              "       [ 34,  44]])"
            ]
          },
          "metadata": {},
          "execution_count": 141
        }
      ]
    },
    {
      "cell_type": "code",
      "source": [
        "print(classification_report(y_test, y_pred))"
      ],
      "metadata": {
        "colab": {
          "base_uri": "https://localhost:8080/"
        },
        "id": "T8ML5XS9CPsJ",
        "outputId": "e2fbaebe-6a46-4d83-f845-5d9bd595bf38"
      },
      "execution_count": null,
      "outputs": [
        {
          "output_type": "stream",
          "name": "stdout",
          "text": [
            "              precision    recall  f1-score   support\n",
            "\n",
            "           0       0.80      0.87      0.83       153\n",
            "           1       0.69      0.56      0.62        78\n",
            "\n",
            "    accuracy                           0.77       231\n",
            "   macro avg       0.74      0.72      0.73       231\n",
            "weighted avg       0.76      0.77      0.76       231\n",
            "\n"
          ]
        }
      ]
    },
    {
      "cell_type": "markdown",
      "source": [
        "Statsmodel\n",
        "\n",
        "\n",
        "\n",
        "\n",
        "Statsmodels is a Python package that allows users to explore data, estimate statistical models, and perform statistical tests."
      ],
      "metadata": {
        "id": "IgkqQOgKKI-c"
      }
    },
    {
      "cell_type": "code",
      "source": [
        "import statsmodels.api as sm"
      ],
      "metadata": {
        "id": "fpS2puajDWEN"
      },
      "execution_count": null,
      "outputs": []
    },
    {
      "cell_type": "code",
      "source": [
        "#To Initialize value of slope at begaining\n",
        "X = sm.add_constant(X)"
      ],
      "metadata": {
        "id": "XrdJ2Yq8Debg"
      },
      "execution_count": null,
      "outputs": []
    },
    {
      "cell_type": "code",
      "source": [
        "model = sm.Logit(y, X)"
      ],
      "metadata": {
        "id": "FkHbSUCvDitr"
      },
      "execution_count": null,
      "outputs": []
    },
    {
      "cell_type": "code",
      "source": [
        "result = model.fit()"
      ],
      "metadata": {
        "colab": {
          "base_uri": "https://localhost:8080/"
        },
        "id": "Hkiv1JX2Dlog",
        "outputId": "81bd2d70-44f1-4a01-c8d7-54b5e0615f17"
      },
      "execution_count": null,
      "outputs": [
        {
          "output_type": "stream",
          "name": "stdout",
          "text": [
            "Optimization terminated successfully.\n",
            "         Current function value: 0.470993\n",
            "         Iterations 6\n"
          ]
        }
      ]
    },
    {
      "cell_type": "code",
      "source": [
        "print(result.summary())"
      ],
      "metadata": {
        "colab": {
          "base_uri": "https://localhost:8080/"
        },
        "id": "8NCJz-lcDo2J",
        "outputId": "5370cb81-89f7-457c-bdf0-d91d2f763fff"
      },
      "execution_count": null,
      "outputs": [
        {
          "output_type": "stream",
          "name": "stdout",
          "text": [
            "                           Logit Regression Results                           \n",
            "==============================================================================\n",
            "Dep. Variable:               diabetes   No. Observations:                  768\n",
            "Model:                          Logit   Df Residuals:                      759\n",
            "Method:                           MLE   Df Model:                            8\n",
            "Date:                Sun, 19 Dec 2021   Pseudo R-squ.:                  0.2718\n",
            "Time:                        10:16:29   Log-Likelihood:                -361.72\n",
            "converged:                       True   LL-Null:                       -496.74\n",
            "Covariance Type:            nonrobust   LLR p-value:                 9.652e-54\n",
            "===============================================================================\n",
            "                  coef    std err          z      P>|z|      [0.025      0.975]\n",
            "-------------------------------------------------------------------------------\n",
            "const          -8.4047      0.717    -11.728      0.000      -9.809      -7.000\n",
            "pregnancies     0.1232      0.032      3.840      0.000       0.060       0.186\n",
            "glucose         0.0352      0.004      9.481      0.000       0.028       0.042\n",
            "diastolic      -0.0133      0.005     -2.540      0.011      -0.024      -0.003\n",
            "triceps         0.0006      0.007      0.090      0.929      -0.013       0.014\n",
            "insulin        -0.0012      0.001     -1.322      0.186      -0.003       0.001\n",
            "bmi             0.0897      0.015      5.945      0.000       0.060       0.119\n",
            "dpf             0.9452      0.299      3.160      0.002       0.359       1.531\n",
            "age             0.0149      0.009      1.593      0.111      -0.003       0.033\n",
            "===============================================================================\n"
          ]
        }
      ]
    },
    {
      "cell_type": "markdown",
      "source": [
        "Since P value is greater than 0.5% for 'diastolic', 'triceps', 'insulin' and 'age' hence we discard them as features and rebuild our model."
      ],
      "metadata": {
        "id": "b3JbNUr5G6Rz"
      }
    },
    {
      "cell_type": "markdown",
      "source": [
        " Recreated Model \n",
        "\n",
        "---\n",
        "\n"
      ],
      "metadata": {
        "id": "GR48iJX_Erq-"
      }
    },
    {
      "cell_type": "code",
      "execution_count": null,
      "metadata": {
        "id": "ZQ_zmazALijN"
      },
      "outputs": [],
      "source": [
        "import pandas as pd"
      ]
    },
    {
      "cell_type": "code",
      "source": [
        "df=pd.read_csv(r\"https://github.com/Yantra-Byte/Dataset/raw/main/Diabetes.csv\")"
      ],
      "metadata": {
        "id": "xzbdlexZLijO"
      },
      "execution_count": null,
      "outputs": []
    },
    {
      "cell_type": "code",
      "source": [
        "X =df[['pregnancies', 'glucose', 'bmi',\n",
        "       'dpf']]"
      ],
      "metadata": {
        "id": "RclHjbUBLijO"
      },
      "execution_count": null,
      "outputs": []
    },
    {
      "cell_type": "code",
      "source": [
        "y=df['diabetes']"
      ],
      "metadata": {
        "id": "v9ODxrCwLijO"
      },
      "execution_count": null,
      "outputs": []
    },
    {
      "cell_type": "code",
      "source": [
        "# train_test_split\n",
        "from sklearn.model_selection import train_test_split\n",
        "X_train, X_test, y_train, y_test= train_test_split(X,y,train_size=0.7,random_state=252)"
      ],
      "metadata": {
        "id": "ueDd3-pjLijO"
      },
      "execution_count": null,
      "outputs": []
    },
    {
      "cell_type": "code",
      "source": [
        "# Model - train dataset\n",
        "from sklearn.linear_model import LogisticRegression\n",
        "model=LogisticRegression(max_iter=500,random_state=252)\n",
        "model.fit(X_train,y_train)"
      ],
      "metadata": {
        "colab": {
          "base_uri": "https://localhost:8080/"
        },
        "id": "QncWqwniLijO",
        "outputId": "a2e58b73-409f-477d-dcb5-8a0747a5e4e9"
      },
      "execution_count": null,
      "outputs": [
        {
          "output_type": "execute_result",
          "data": {
            "text/plain": [
              "LogisticRegression(max_iter=500, random_state=252)"
            ]
          },
          "metadata": {},
          "execution_count": 153
        }
      ]
    },
    {
      "cell_type": "code",
      "source": [
        "# predict - test datset\n",
        "y_pred=model.predict(X_test)"
      ],
      "metadata": {
        "id": "FlaBCKpvLijO"
      },
      "execution_count": null,
      "outputs": []
    },
    {
      "cell_type": "code",
      "source": [
        "y_pred"
      ],
      "metadata": {
        "colab": {
          "base_uri": "https://localhost:8080/"
        },
        "outputId": "d9ee63bb-2e21-422f-8d39-67838a59af9d",
        "id": "6-fIZWbdLijO"
      },
      "execution_count": null,
      "outputs": [
        {
          "output_type": "execute_result",
          "data": {
            "text/plain": [
              "array([0, 0, 0, 0, 0, 1, 1, 0, 0, 0, 1, 1, 0, 0, 0, 0, 1, 0, 0, 0, 0, 0,\n",
              "       0, 1, 1, 1, 0, 0, 0, 0, 1, 0, 0, 0, 0, 0, 0, 0, 0, 0, 1, 0, 0, 0,\n",
              "       0, 0, 1, 0, 1, 0, 0, 0, 0, 0, 1, 0, 0, 1, 0, 0, 0, 0, 0, 0, 0, 0,\n",
              "       0, 0, 0, 1, 1, 0, 0, 1, 0, 0, 1, 0, 1, 1, 1, 0, 0, 0, 0, 0, 0, 1,\n",
              "       0, 1, 0, 0, 0, 0, 0, 0, 0, 0, 0, 0, 0, 1, 0, 1, 0, 1, 1, 1, 0, 0,\n",
              "       0, 0, 0, 1, 1, 0, 0, 0, 1, 1, 0, 0, 1, 0, 0, 1, 0, 0, 1, 0, 0, 1,\n",
              "       0, 0, 0, 0, 0, 0, 0, 0, 0, 0, 0, 0, 0, 0, 1, 1, 0, 0, 0, 0, 0, 0,\n",
              "       0, 0, 0, 0, 0, 0, 0, 0, 1, 0, 1, 0, 0, 1, 0, 0, 0, 0, 0, 0, 0, 0,\n",
              "       0, 0, 1, 0, 0, 0, 1, 0, 1, 0, 0, 0, 0, 0, 0, 0, 0, 0, 0, 0, 1, 0,\n",
              "       0, 1, 0, 1, 1, 1, 0, 1, 0, 0, 0, 0, 0, 1, 0, 0, 0, 0, 0, 0, 0, 0,\n",
              "       1, 1, 0, 1, 0, 1, 0, 0, 0, 0, 0])"
            ]
          },
          "metadata": {},
          "execution_count": 155
        }
      ]
    },
    {
      "cell_type": "code",
      "source": [
        "#Predicted in probability\n",
        "model.predict_proba(X_test)"
      ],
      "metadata": {
        "id": "O1QBXtIOLijO"
      },
      "execution_count": null,
      "outputs": []
    },
    {
      "cell_type": "markdown",
      "source": [
        "Accuracy \n",
        "\n"
      ],
      "metadata": {
        "id": "4TarE-FuLijP"
      }
    },
    {
      "cell_type": "code",
      "source": [
        "from sklearn.metrics import confusion_matrix , classification_report "
      ],
      "metadata": {
        "id": "asJdkxZOLijP"
      },
      "execution_count": null,
      "outputs": []
    },
    {
      "cell_type": "code",
      "source": [
        "confusion_matrix(y_test,y_pred)"
      ],
      "metadata": {
        "colab": {
          "base_uri": "https://localhost:8080/"
        },
        "id": "on4iJ9x2LijP",
        "outputId": "3d853188-6686-42ac-a33a-b08a200217c3"
      },
      "execution_count": null,
      "outputs": [
        {
          "output_type": "execute_result",
          "data": {
            "text/plain": [
              "array([[137,  16],\n",
              "       [ 39,  39]])"
            ]
          },
          "metadata": {},
          "execution_count": 158
        }
      ]
    },
    {
      "cell_type": "code",
      "source": [
        "print(classification_report(y_test, y_pred))"
      ],
      "metadata": {
        "colab": {
          "base_uri": "https://localhost:8080/"
        },
        "id": "oSZr_c8bLijP",
        "outputId": "df8006e7-96c8-416e-db8d-9101accd9453"
      },
      "execution_count": null,
      "outputs": [
        {
          "output_type": "stream",
          "name": "stdout",
          "text": [
            "              precision    recall  f1-score   support\n",
            "\n",
            "           0       0.78      0.90      0.83       153\n",
            "           1       0.71      0.50      0.59        78\n",
            "\n",
            "    accuracy                           0.76       231\n",
            "   macro avg       0.74      0.70      0.71       231\n",
            "weighted avg       0.76      0.76      0.75       231\n",
            "\n"
          ]
        }
      ]
    },
    {
      "cell_type": "markdown",
      "source": [
        "Statsmodel"
      ],
      "metadata": {
        "id": "PAHmpJHlL7I2"
      }
    },
    {
      "cell_type": "code",
      "source": [
        "import statsmodels.api as sm"
      ],
      "metadata": {
        "id": "N6s7nigPLijP"
      },
      "execution_count": null,
      "outputs": []
    },
    {
      "cell_type": "code",
      "source": [
        "#To Initialize value of slope at begaining\n",
        "X = sm.add_constant(X)"
      ],
      "metadata": {
        "id": "aBd_yZN5LijP"
      },
      "execution_count": null,
      "outputs": []
    },
    {
      "cell_type": "code",
      "source": [
        "model = sm.Logit(y, X)"
      ],
      "metadata": {
        "id": "ZpEwh_xPLijP"
      },
      "execution_count": null,
      "outputs": []
    },
    {
      "cell_type": "code",
      "source": [
        "result = model.fit()"
      ],
      "metadata": {
        "colab": {
          "base_uri": "https://localhost:8080/"
        },
        "id": "E_1mtLg4LijP",
        "outputId": "117811bb-a995-4c01-dcc0-582853b302c6"
      },
      "execution_count": null,
      "outputs": [
        {
          "output_type": "stream",
          "name": "stdout",
          "text": [
            "Optimization terminated successfully.\n",
            "         Current function value: 0.478064\n",
            "         Iterations 6\n"
          ]
        }
      ]
    },
    {
      "cell_type": "code",
      "source": [
        "print(result.summary())"
      ],
      "metadata": {
        "colab": {
          "base_uri": "https://localhost:8080/"
        },
        "id": "dg35VsmyLijQ",
        "outputId": "d966d482-cf64-4700-96fa-707e077aa2a5"
      },
      "execution_count": null,
      "outputs": [
        {
          "output_type": "stream",
          "name": "stdout",
          "text": [
            "                           Logit Regression Results                           \n",
            "==============================================================================\n",
            "Dep. Variable:               diabetes   No. Observations:                  768\n",
            "Model:                          Logit   Df Residuals:                      763\n",
            "Method:                           MLE   Df Model:                            4\n",
            "Date:                Sun, 19 Dec 2021   Pseudo R-squ.:                  0.2609\n",
            "Time:                        10:16:29   Log-Likelihood:                -367.15\n",
            "converged:                       True   LL-Null:                       -496.74\n",
            "Covariance Type:            nonrobust   LLR p-value:                 6.857e-55\n",
            "===============================================================================\n",
            "                  coef    std err          z      P>|z|      [0.025      0.975]\n",
            "-------------------------------------------------------------------------------\n",
            "const          -8.4159      0.657    -12.811      0.000      -9.703      -7.128\n",
            "pregnancies     0.1419      0.027      5.236      0.000       0.089       0.195\n",
            "glucose         0.0338      0.003     10.112      0.000       0.027       0.040\n",
            "bmi             0.0781      0.014      5.671      0.000       0.051       0.105\n",
            "dpf             0.9013      0.292      3.090      0.002       0.330       1.473\n",
            "===============================================================================\n"
          ]
        }
      ]
    }
  ]
}